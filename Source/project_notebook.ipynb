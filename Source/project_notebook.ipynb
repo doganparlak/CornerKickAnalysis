{
 "cells": [
  {
   "cell_type": "code",
   "execution_count": 1,
   "metadata": {},
   "outputs": [],
   "source": [
    "import matplotlib.pyplot as plt\n",
    "import matplotlib.cm as cm\n",
    "import numpy as np\n",
    "import pandas as pd\n",
    "from mplsoccer import VerticalPitch\n",
    "import pandas as pd\n",
    "import numpy as np\n",
    "from source_plotting import * \n",
    "import xml.etree.ElementTree as et\n",
    "from mplsoccer import Pitch\n",
    "import math\n",
    "import json\n",
    "from datetime import datetime\n",
    "import copy\n",
    "from sys import intern\n",
    "import pickle\n",
    "from IPython.display import display\n",
    "from pathlib import Path\n",
    "from tqdm import tqdm\n",
    "from sklearn.cluster import KMeans\n",
    "from scipy.spatial import distance"
   ]
  },
  {
   "attachments": {},
   "cell_type": "markdown",
   "metadata": {},
   "source": [
    "Matches Parser Class"
   ]
  },
  {
   "cell_type": "code",
   "execution_count": 2,
   "metadata": {},
   "outputs": [],
   "source": [
    "class Matches():\n",
    "\n",
    "    def __init__(self, matches_path = \"data/matches.json\"):\n",
    "        self.matches_path = matches_path\n",
    "        self.matches_df, self.match_ids, self.date_times, self.home_teams, self.away_teams = self.parse_matches()\n",
    "\n",
    "    def parse_matches(self):\n",
    "        with open(self.matches_path, 'r') as file:\n",
    "            matches_raw = json.load(file)\n",
    "\n",
    "        matches = []\n",
    "        match_ids = []\n",
    "        home_teams = []\n",
    "        away_teams = []\n",
    "        date_times = []\n",
    "        for m in matches_raw: # iterate for each match\n",
    "            match_dict = {}\n",
    "            match_dict[\"match_id\"]  = m[\"id\"]\n",
    "            match_dict[\"date_time\"] = m[\"date_time\"]\n",
    "            match_dict[\"home_team\"] = m['home_team']['short_name']\n",
    "            match_dict[\"away_team\"] = m['away_team']['short_name']\n",
    "            matches.append(match_dict)\n",
    "\n",
    "            match_ids.append(match_dict[\"match_id\"])\n",
    "            date_times.append(match_dict[\"date_time\"])\n",
    "            home_teams.append(match_dict[\"home_team\"])\n",
    "            away_teams.append(match_dict[\"away_team\"])\n",
    "            \n",
    "        matches_df = pd.DataFrame(matches)\n",
    "\n",
    "        return matches_df, match_ids, date_times, home_teams, away_teams\n",
    "\n",
    "        "
   ]
  },
  {
   "attachments": {},
   "cell_type": "markdown",
   "metadata": {},
   "source": [
    "Match Parser Class"
   ]
  },
  {
   "cell_type": "code",
   "execution_count": 3,
   "metadata": {},
   "outputs": [],
   "source": [
    "class Match():\n",
    "\n",
    "    def __init__(self, match_path):\n",
    "        self.match_path = match_path\n",
    "        self.match_id, self.date_time, self.home_team_name, self.away_team_name, self.home_team_id, self.away_team_id, self.pitch_length, self.pitch_width, \\\n",
    "        self.home_team_score, self.away_team_score, self.home_team_df, self.away_team_df = self.parse_match()\n",
    "    def parse_match(self):\n",
    "        with open(self.match_path, 'r') as file:\n",
    "            match_raw = json.load(file)\n",
    "\n",
    "        # basic team information\n",
    "        match_id = match_raw[\"id\"]\n",
    "        date_time = match_raw[\"date_time\"]\n",
    "        home_team_name = match_raw[\"home_team\"][\"short_name\"]\n",
    "        away_team_name =  match_raw[\"away_team\"][\"short_name\"]\n",
    "        home_team_id =  match_raw[\"home_team\"][\"id\"]\n",
    "        away_team_id =  match_raw[\"away_team\"][\"id\"]\n",
    "        pitch_length = match_raw[\"pitch_length\"]\n",
    "        pitch_width = match_raw[\"pitch_width\"]\n",
    "        home_team_score = match_raw[\"home_team_score\"]\n",
    "        away_team_score = match_raw[\"away_team_score\"]\n",
    "\n",
    "        home_team_players = []\n",
    "        away_team_players = []\n",
    "        for p in match_raw[\"players\"]: # iterate for players in the match \n",
    "            player_dict = {}\n",
    "            player_dict[\"trackable_object\"] = p[\"trackable_object\"]\n",
    "            player_dict[\"name\"] = p[\"first_name\"] + \" \" + p[\"last_name\"]\n",
    "            player_dict[\"jersey_no\"]: p[\"number\"]\n",
    "            player_dict[\"player_role\"] = p[\"player_role\"][\"acronym\"]\n",
    "            player_dict[\"start_time\"] = p[\"start_time\"]\n",
    "            player_dict[\"end_time\"] = p[\"end_time\"]\n",
    "            if p[\"team_id\"] == home_team_id: # home team\n",
    "                home_team_players.append(player_dict)\n",
    "            elif p[\"team_id\"] == away_team_id: # away team\n",
    "                away_team_players.append(player_dict)\n",
    "\n",
    "        home_team_df = pd.DataFrame(home_team_players)\n",
    "        away_team_df = pd.DataFrame(away_team_players)\n",
    "\n",
    "        return match_id, date_time, home_team_name, away_team_name, home_team_id, away_team_id, pitch_length, pitch_width,\\\n",
    "               home_team_score, away_team_score, home_team_df, away_team_df\n",
    "    "
   ]
  },
  {
   "attachments": {},
   "cell_type": "markdown",
   "metadata": {},
   "source": [
    "Tracking Parser Class"
   ]
  },
  {
   "cell_type": "code",
   "execution_count": 4,
   "metadata": {},
   "outputs": [],
   "source": [
    "class Tracking():\n",
    "\n",
    "    def __init__(self, tracking_path, match_obj):\n",
    "        self.tracking_path = tracking_path\n",
    "        self.match_obj = match_obj\n",
    "        self.all_times, self.all_frames, self.all_possessions, self.home_team_coords, self.away_team_coords,\\\n",
    "        self.home_team_trackable_objs, self.away_team_trackable_objs, self.ball_coords, self.possessions, self.frames, self.times = self.parse_tracking()\n",
    "    \n",
    "    def parse_tracking(self):\n",
    "        with open(self.tracking_path, 'r') as file:\n",
    "            tracking_raw = json.load(file)\n",
    "\n",
    "        all_possessions = []\n",
    "        all_frames = []\n",
    "        all_times = []\n",
    "        home_team_coords = []\n",
    "        away_team_coords = []\n",
    "        home_team_trackable_objs = []\n",
    "        away_team_trackable_objs = []\n",
    "        ball_coords = []\n",
    "        possessions = []\n",
    "        frames = []\n",
    "        times = []\n",
    "        home_team_trackable_objects = self.match_obj.home_team_df[\"trackable_object\"].values # home team ids\n",
    "        away_team_trackable_objects = self.match_obj.away_team_df[\"trackable_object\"].values # away team ids\n",
    "        for t in tracking_raw:\n",
    "            if (t[\"period\"] == 1 or t[\"period\"] == 2): # during the match\n",
    "                if len(t[\"data\"]) > 0: # tracking data is available\n",
    "                    possessions.append(t[\"possession\"][\"group\"])\n",
    "                    frames.append(t[\"frame\"])\n",
    "                    times.append(t[\"time\"])\n",
    "                    temp_home_coords = []\n",
    "                    temp_away_coords = []\n",
    "                    temp_ball_coords = []\n",
    "                    temp_home_trackable_objs = []\n",
    "                    temp_away_trackable_objs = []\n",
    "                    for d in t[\"data\"]:\n",
    "                        x = d[\"y\"]\n",
    "                        y = d[\"x\"]\n",
    "                        if \"trackable_object\" in d.keys(): # player is known\n",
    "                            if d[\"trackable_object\"] in home_team_trackable_objects: # home player coords\n",
    "                                temp_home_coords.append([x,y])\n",
    "                                temp_home_trackable_objs.append(d[\"trackable_object\"])\n",
    "                            elif d[\"trackable_object\"] in away_team_trackable_objects: # away player coords\n",
    "                                temp_away_coords.append([x,y])\n",
    "                                temp_away_trackable_objs.append(d[\"trackable_object\"])\n",
    "                            elif \"z\" in d.keys(): # ball coords\n",
    "                                z = d[\"z\"]\n",
    "                                temp_ball_coords.append([x,y,z])\n",
    "                            else: # referee\n",
    "                                continue\n",
    "                        elif \"group_name\" in d.keys(): # team is known\n",
    "                            if d[\"group_name\"] == \"home team\" or d[\"group_name\"] == \"home goalkeeper\": # home player coords\n",
    "                                temp_home_coords.append([x,y])\n",
    "                                temp_home_trackable_objs.append(-1)\n",
    "                            elif d[\"group_name\"] == \"away team\" or d[\"group_name\"] == \"away goalkeeper\": # away player coords\n",
    "                                temp_away_coords.append([x,y])\n",
    "                                temp_away_trackable_objs.append(-1)\n",
    "                            elif d[\"group_name\"] == \"ball\": # ball coords\n",
    "                                z = d[\"z\"]\n",
    "                                temp_ball_coords.append([x,y,z])\n",
    "                            else: # referee\n",
    "                                continue\n",
    "                    \n",
    "                    \n",
    "                    home_team_trackable_objs.append(temp_home_trackable_objs)\n",
    "                    away_team_trackable_objs.append(temp_away_trackable_objs)\n",
    "                    home_team_coords.append(temp_home_coords)\n",
    "                    away_team_coords.append(temp_away_coords)\n",
    "                    ball_coords.append(temp_ball_coords)\n",
    "\n",
    "            all_possessions.append(t[\"possession\"][\"group\"])\n",
    "            all_frames.append(t[\"frame\"])\n",
    "            all_times.append(t[\"time\"])\n",
    "        \n",
    "        return all_times, all_frames, all_possessions, home_team_coords, away_team_coords,\\\n",
    "               home_team_trackable_objs, away_team_trackable_objs, ball_coords, possessions, frames, times\n"
   ]
  },
  {
   "attachments": {},
   "cell_type": "markdown",
   "metadata": {},
   "source": [
    "Visualization Class"
   ]
  },
  {
   "cell_type": "code",
   "execution_count": 5,
   "metadata": {},
   "outputs": [],
   "source": [
    "class Visualizer():\n",
    "\n",
    "    def basic_plotter_together(self, tracking, frame, team_name = \"\", centroids = []):\n",
    "       \n",
    "        coords_home = tracking.home_team_coords[frame]\n",
    "        coords_away = tracking.away_team_coords[frame]\n",
    "        \n",
    "        mus_home  = coords_home \n",
    "        mus_away  = coords_away\n",
    "        fig = plt.figure(figsize=(6.8, 10.5))\n",
    "        ax = plt.gca()\n",
    "        ax.set_facecolor('white')\n",
    "        ax.set_xticks([])\n",
    "        ax.set_yticks([])\n",
    "        draw_pitch(ax, orient_vertical=True, pitch_center=(0, 0))  \n",
    "        mus_home = np.asarray([[pair[0], pair[1]] for pair in mus_home]) # home team coords\n",
    "        mus_away = np.asarray([[pair[0], pair[1]] for pair in mus_away]) # away team coords\n",
    "        for p in range(len(coords_home)):\n",
    "            ax.scatter([mus_home[p][0]], [mus_home[p][1]], s=100, color = 'red', edgecolors='k')\n",
    "        \n",
    "        for p in range(len(coords_away)):\n",
    "            ax.scatter([mus_away[p][0]], [mus_away[p][1]], s=100, color = 'blue', edgecolors='k')\n",
    "\n",
    "        ax.text(-30, 54, s = team_name + \" Corner Kick\", color='red') # title of the plot\n",
    "        \n",
    "        if len(tracking.ball_coords[frame]) > 0: # ball visualization if ball data exists\n",
    "            ball_coords = tracking.ball_coords[frame][0]\n",
    "            ax.scatter([ball_coords[0]], [ball_coords[1]], s=50, color = 'green', edgecolors='k')\n",
    "        \n",
    "        if len(centroids) > 0: # kmeans analysis available - centroid visualization if necessary\n",
    "            for p in centroids:\n",
    "                ax.scatter([p[0]], [p[1]], s=100, color = 'cyan', edgecolors='k')\n",
    "    \n",
    "    def k_means_plotter(self, coords, centroids, defensing_team_preds_colors, team_name = \"\", k =5):\n",
    "        \n",
    "        coords = np.array(coords)\n",
    "        fig = plt.figure(figsize=(6.8, 10.5))\n",
    "        ax = plt.gca()\n",
    "        ax.set_facecolor('white')\n",
    "        ax.set_xticks([])\n",
    "        ax.set_yticks([])\n",
    "        draw_pitch(ax, orient_vertical=True, pitch_center=(0, 0))  \n",
    "        centroid_colors = [\"black\"] * k \n",
    "        ax.scatter(coords[:,0], coords[:,1], s=100, color = defensing_team_preds_colors) # data points with corresponding colors \n",
    "        ax.scatter(centroids[:,0], centroids[:,1], s=100, color = centroid_colors) # centroids of each cluster\n",
    "        ax.text(-30, 54, s = team_name, color='red')\n",
    "        "
   ]
  },
  {
   "attachments": {},
   "cell_type": "markdown",
   "metadata": {},
   "source": [
    "Save and Load methods for objects"
   ]
  },
  {
   "cell_type": "code",
   "execution_count": 6,
   "metadata": {},
   "outputs": [],
   "source": [
    "def save_match_objects(match_ids = [2068, 2269, 2417, 2440, 2841, 3442, 3518, 3749, 4039]):\n",
    "    for m in match_ids:\n",
    "        temp_path = f\"data/{str(m)}/match_data.json\"\n",
    "        temp_match_obj = Match(match_path = temp_path)\n",
    "        with open(f'match_objs/{str(m)}/match_{str(m)}.pkl', 'wb') as f: # save match object\n",
    "            pickle.dump(temp_match_obj, f)\n",
    "            #print(f'Match object successfully saved to \"{f}\"')"
   ]
  },
  {
   "cell_type": "code",
   "execution_count": 7,
   "metadata": {},
   "outputs": [],
   "source": [
    "def save_tracking_objects(match_objs, match_ids = [2068, 2269, 2417, 2440, 2841, 3442, 3518, 3749, 4039]):\n",
    "    for i,m in enumerate(match_objs):\n",
    "        temp_path = f\"data/{str(match_ids[i])}/structured_data.json\"\n",
    "        temp_tracking_obj = Tracking(tracking_path = temp_path, match_obj = m)\n",
    "        with open(f'tracking_objs/{str(match_ids[i])}/tracking_{str(match_ids[i])}.pkl', 'wb') as f: # save tracking object\n",
    "            pickle.dump(temp_tracking_obj, f)"
   ]
  },
  {
   "cell_type": "code",
   "execution_count": 8,
   "metadata": {},
   "outputs": [],
   "source": [
    "def load_match_objects(match_ids = [2068, 2269, 2417, 2440, 2841, 3442, 3518, 3749, 4039]):\n",
    "    match_objs = []\n",
    "    for match_id in match_ids:\n",
    "        match_obj_path = f\"match_objs/{str(match_id)}/match_{str(match_id)}.pkl\"\n",
    "        with open(match_obj_path, 'rb') as match: # load match object\n",
    "            match_obj = pickle.load(match)\n",
    "        match_objs.append(match_obj)\n",
    "    return match_objs"
   ]
  },
  {
   "cell_type": "code",
   "execution_count": 9,
   "metadata": {},
   "outputs": [],
   "source": [
    "def load_tracking_objects(match_ids = [2068, 2269, 2417, 2440, 2841, 3442, 3518, 3749, 4039]):\n",
    "    tracking_objs = []\n",
    "    for match_id in match_ids:\n",
    "        tracking_obj_path = f\"tracking_objs/{str(match_id)}/tracking_{str(match_id)}.pkl\"\n",
    "        with open(tracking_obj_path, 'rb') as match: # load match object\n",
    "            tracking_obj = pickle.load(match)\n",
    "        tracking_objs.append(tracking_obj)\n",
    "    return tracking_objs"
   ]
  },
  {
   "attachments": {},
   "cell_type": "markdown",
   "metadata": {},
   "source": [
    "Mathces, Match and Tracking object initializations"
   ]
  },
  {
   "cell_type": "code",
   "execution_count": 10,
   "metadata": {},
   "outputs": [],
   "source": [
    "matches = Matches()"
   ]
  },
  {
   "cell_type": "code",
   "execution_count": 11,
   "metadata": {},
   "outputs": [],
   "source": [
    "match_objs = load_match_objects(match_ids = [2068, 2269, 2417, 2440, 2841, 3442, 3518, 3749, 4039])"
   ]
  },
  {
   "cell_type": "code",
   "execution_count": 12,
   "metadata": {},
   "outputs": [],
   "source": [
    "tracking_objs = load_tracking_objects(match_ids = [2068, 2269, 2417, 2440, 2841, 3442, 3518, 3749, 4039])"
   ]
  },
  {
   "attachments": {},
   "cell_type": "markdown",
   "metadata": {},
   "source": [
    "CORNER KICK IDENTIFICATION MODEL"
   ]
  },
  {
   "attachments": {},
   "cell_type": "markdown",
   "metadata": {},
   "source": [
    "Detect Corner Kicks "
   ]
  },
  {
   "cell_type": "code",
   "execution_count": 13,
   "metadata": {},
   "outputs": [],
   "source": [
    "def get_corner_kick_frames_without_ball(tracking_obj, corner_kick_r = 2, opponent_r = 9):\n",
    "    # home corner kick inits\n",
    "    home_right_upper = []\n",
    "    home_left_upper = []\n",
    "    home_right_lower = []\n",
    "    home_left_lower = []\n",
    "    # away corner kick inits\n",
    "    away_right_upper = []\n",
    "    away_left_upper = []\n",
    "    away_right_lower = []\n",
    "    away_left_lower = []\n",
    "\n",
    "    for f in range(len(tracking_obj.frames)):\n",
    "        if len(tracking_obj.home_team_coords[f]) > 0 and len(tracking_obj.away_team_coords[f]): #data exists\n",
    "            # home location\n",
    "            home_coords = np.array(tracking_obj.home_team_coords[f])\n",
    "            # away location\n",
    "            away_coords = np.array(tracking_obj.away_team_coords[f])\n",
    "            # corner point locations\n",
    "            right_upper_cp = np.array([34, 52.5])\n",
    "            left_upper_cp = np.array([-34, 52.5])\n",
    "            right_lower_cp = np.array([34, -52.5])\n",
    "            left_lower_cp = np.array([-34, -52.5])\n",
    "\n",
    "            # PLAYER LEVEL ANALYSIS\n",
    "            # home player distances to corner points\n",
    "            home_dist_to_right_upper_cp = np.sqrt(np.sum((home_coords - right_upper_cp) ** 2, axis = 1))\n",
    "            home_dist_to_left_upper_cp = np.sqrt(np.sum((home_coords - left_upper_cp) ** 2, axis = 1))\n",
    "            home_dist_to_right_lower_cp = np.sqrt(np.sum((home_coords - right_lower_cp) ** 2, axis = 1))\n",
    "            home_dist_to_left_lower_cp = np.sqrt(np.sum((home_coords - left_lower_cp) ** 2, axis = 1))\n",
    "            # away player distances to corner points\n",
    "            away_dist_to_right_upper_cp = np.sqrt(np.sum((away_coords - right_upper_cp) ** 2, axis = 1))\n",
    "            away_dist_to_left_upper_cp = np.sqrt(np.sum((away_coords - left_upper_cp) ** 2, axis = 1))\n",
    "            away_dist_to_right_lower_cp = np.sqrt(np.sum((away_coords - right_lower_cp) ** 2, axis = 1))\n",
    "            away_dist_to_left_lower_cp = np.sqrt(np.sum((away_coords - left_lower_cp) ** 2, axis = 1))\n",
    "            \n",
    "            # home players close to corner points\n",
    "            home_player_right_upper_cp =  home_dist_to_right_upper_cp[home_dist_to_right_upper_cp <= corner_kick_r]\n",
    "            home_player_left_upper_cp =  home_dist_to_left_upper_cp[home_dist_to_left_upper_cp <= corner_kick_r]\n",
    "            home_player_right_lower_cp =  home_dist_to_right_lower_cp[home_dist_to_right_lower_cp <= corner_kick_r]\n",
    "            home_player_left_lower_cp =  home_dist_to_left_lower_cp[home_dist_to_left_lower_cp <= corner_kick_r]\n",
    "            # away players close to corner points\n",
    "            away_player_right_upper_cp =  away_dist_to_right_upper_cp[away_dist_to_right_upper_cp <= corner_kick_r]\n",
    "            away_player_left_upper_cp =  away_dist_to_left_upper_cp[away_dist_to_left_upper_cp <= corner_kick_r]\n",
    "            away_player_right_lower_cp =  away_dist_to_right_lower_cp[away_dist_to_right_lower_cp <= corner_kick_r]\n",
    "            away_player_left_lower_cp =  away_dist_to_left_lower_cp[away_dist_to_left_lower_cp <= corner_kick_r]\n",
    "\n",
    "            # HOME CORNER\n",
    "            # Home - Right Upper\n",
    "            if len(home_player_right_upper_cp) > 0: # a player is near corner arc\n",
    "                away_player_right_upper_cp_opponent =  away_dist_to_right_upper_cp[away_dist_to_right_upper_cp <= opponent_r] # defensive player is not within 9 meter range\n",
    "                if len(away_player_right_upper_cp_opponent) == 0:\n",
    "                    home_right_upper.append(f)\n",
    "            # Home - Left Upper\n",
    "            elif len(home_player_left_upper_cp) > 0: # a player is near corner arc\n",
    "                away_player_left_upper_cp_opponent =  away_dist_to_left_upper_cp[away_dist_to_left_upper_cp <= opponent_r] # defensive player is not within 9 meter range\n",
    "                if len(away_player_left_upper_cp_opponent) == 0:\n",
    "                    home_left_upper.append(f)\n",
    "            # Home - Right Lower\n",
    "            elif len(home_player_right_lower_cp) > 0: # a player is near corner arc\n",
    "                away_player_right_lower_cp_opponent =  away_dist_to_right_lower_cp[away_dist_to_right_lower_cp <= opponent_r] # defensive player is not within 9 meter range\n",
    "                if len(away_player_right_lower_cp_opponent) == 0:\n",
    "                    home_right_lower.append(f)\n",
    "            # Home - Left Lower\n",
    "            elif len(home_player_left_lower_cp) > 0: # a player is near corner arc\n",
    "                away_player_left_lower_cp_opponent =  away_dist_to_left_lower_cp[away_dist_to_left_lower_cp <= opponent_r] # defensive player is not within 9 meter range\n",
    "                if len(away_player_left_lower_cp_opponent) == 0:\n",
    "                    home_left_lower.append(f)\n",
    "            \n",
    "            # AWAY CORNER\n",
    "            # Away - Right Upper\n",
    "            if len(away_player_right_upper_cp) > 0: # a player is near corner arc\n",
    "                home_player_right_upper_cp_opponent =  home_dist_to_right_upper_cp[home_dist_to_right_upper_cp <= opponent_r] # defensive player is not within 9 meter range\n",
    "                if len(home_player_right_upper_cp_opponent) == 0:\n",
    "                    away_right_upper.append(f)\n",
    "            # Away - Left Upper\n",
    "            elif len(away_player_left_upper_cp) > 0: # a player is near corner arc\n",
    "                home_player_left_upper_cp_opponent =  home_dist_to_left_upper_cp[home_dist_to_left_upper_cp <= opponent_r] # defensive player is not within 9 meter range\n",
    "                if len(home_player_left_upper_cp_opponent) == 0:\n",
    "                    away_left_upper.append(f)\n",
    "            # Away - Right Lower\n",
    "            elif len(away_player_right_lower_cp) > 0: # a player is near corner arc\n",
    "                home_player_right_lower_cp_opponent =  home_dist_to_right_lower_cp[home_dist_to_right_lower_cp <= opponent_r] # defensive player is not within 9 meter range\n",
    "                if len(home_player_right_lower_cp_opponent) == 0:\n",
    "                    away_right_lower.append(f)\n",
    "            # Away - Left Lower\n",
    "            elif len(away_player_left_lower_cp) > 0: # a player is near corner arc\n",
    "                home_player_left_lower_cp_opponent =  home_dist_to_left_lower_cp[home_dist_to_left_lower_cp <= opponent_r] # defensive player is not within 9 meter range\n",
    "                if len(home_player_left_lower_cp_opponent) == 0:\n",
    "                    away_left_lower.append(f)\n",
    "    \n",
    "    return home_right_upper, home_left_upper, home_right_lower, home_left_lower, \\\n",
    "           away_right_upper, away_left_upper, away_right_lower, away_left_lower"
   ]
  },
  {
   "attachments": {},
   "cell_type": "markdown",
   "metadata": {},
   "source": [
    "Calculate and Store Corner Kicks "
   ]
  },
  {
   "cell_type": "code",
   "execution_count": 14,
   "metadata": {},
   "outputs": [],
   "source": [
    "# apply corner kick identification for each match and store results\n",
    "def store_corner_kicks(tracking_objs):\n",
    "    corner_kicks_all = []\n",
    "    for i,t in enumerate(tracking_objs):\n",
    "        home_right_upper, home_left_upper, home_right_lower, home_left_lower, \\\n",
    "        away_right_upper, away_left_upper, away_right_lower, away_left_lower = get_corner_kick_frames_without_ball(t) \n",
    "        home_corner_kicks = [home_right_upper, home_left_upper, home_right_lower, home_left_lower]\n",
    "        away_corner_kicks = [away_right_upper, away_left_upper, away_right_lower, away_left_lower]\n",
    "        temp_dict = {}\n",
    "        temp_home_team_name = match_objs[i].home_team_name\n",
    "        temp_away_team_name = match_objs[i].away_team_name\n",
    "        temp_dict[temp_home_team_name] = home_corner_kicks\n",
    "        temp_dict[temp_away_team_name] = away_corner_kicks\n",
    "        corner_kicks_all.append(temp_dict)\n",
    "    return corner_kicks_all"
   ]
  },
  {
   "attachments": {},
   "cell_type": "markdown",
   "metadata": {},
   "source": [
    "Identify and Split each Corner Kick"
   ]
  },
  {
   "cell_type": "code",
   "execution_count": 15,
   "metadata": {},
   "outputs": [],
   "source": [
    "#split corner kick routines and catch misclassified ones \n",
    "def split_corner_kicks(corner_kicks, step = 600, min_frame = 2):\n",
    "    corner_kicks_new = []\n",
    "    for c in corner_kicks: # for each match\n",
    "        temp_new_dict = {}\n",
    "        for k,v in c.items(): # for each team in match\n",
    "            temp_new_dict[k] = []\n",
    "            for cp in v: # for each corner kick locations\n",
    "                if len(cp) < min_frame: # not really a corner\n",
    "                    temp_new_dict[k].append([])\n",
    "                else: # acually a corner\n",
    "                    temp_corners = []\n",
    "                    temp_corner = []\n",
    "                    for i in range(1, len(cp)-1):\n",
    "                        if cp[i+1] - cp[i] < step: # same corner routine\n",
    "                            temp_corner.append(cp[i+1])\n",
    "                        else: # new corner routine\n",
    "                            if len(temp_corner) > min_frame:\n",
    "                                temp_corners.append(temp_corner)\n",
    "                            temp_corner = []\n",
    "                    if len(temp_corner) > min_frame:\n",
    "                        temp_corners.append(temp_corner) \n",
    "                    temp_new_dict[k].append(temp_corners)\n",
    "        corner_kicks_new.append(temp_new_dict)\n",
    "        \n",
    "    return corner_kicks_new"
   ]
  },
  {
   "attachments": {},
   "cell_type": "markdown",
   "metadata": {},
   "source": [
    "ANALYSIS"
   ]
  },
  {
   "attachments": {},
   "cell_type": "markdown",
   "metadata": {},
   "source": [
    "Distribution of Players in Corner Kicks"
   ]
  },
  {
   "cell_type": "code",
   "execution_count": 16,
   "metadata": {},
   "outputs": [],
   "source": [
    "# detect the distribution of players into penalty area - goal area - outside of penalty area\n",
    "def players_per_zones(tracking_objs, corner_kicks_splitted, pen_x = 15, pen_y = 40, goal_kick_x = 7, goal_kick_y = 48):\n",
    "    player_per_zones = []\n",
    "    player_per_zones_counts = []\n",
    "    player_per_zones_frames = []\n",
    "    for m,c in enumerate(corner_kicks_splitted): # for each match\n",
    "        temp_new_dict = {}\n",
    "        temp_new_dict_count = {}\n",
    "        temp_new_dict_frame = {}\n",
    "        for k,v in c.items(): # for each team in match\n",
    "            temp_new_dict[k] = []\n",
    "            temp_new_dict_count[k] = []\n",
    "            temp_new_dict_frame[k] = []\n",
    "            for i,cps in enumerate(v): # for each corner kick locations\n",
    "                for cp in cps: \n",
    "                    if len(cp) == 0: # no corner kick at this location\n",
    "                        continue\n",
    "                    else:\n",
    "                        ck_start = cp[0]\n",
    "                        ck_end = cp[-1]\n",
    "                        temp_new_dict_frame[k].append([ck_start, ck_end])\n",
    "                        temp_home_players_start = np.array(tracking_objs[m].home_team_coords[ck_start])\n",
    "                        temp_home_players_end = np.array(tracking_objs[m].home_team_coords[ck_end])\n",
    "                        temp_away_players_start = np.array(tracking_objs[m].away_team_coords[ck_start])\n",
    "                        temp_away_players_end = np.array(tracking_objs[m].away_team_coords[ck_end])\n",
    "                        if i == 0 or i == 1: # corner kick at upper side of the pitch\n",
    "                            # START of Corner Kick Frame\n",
    "\n",
    "                            # home inside penalty area\n",
    "                            home_inside_penalty_area_start = temp_home_players_start[((temp_home_players_start[:,0] < pen_x) & (temp_home_players_start[:,0] > -pen_x))]\n",
    "                            home_inside_penalty_area_start = home_inside_penalty_area_start[home_inside_penalty_area_start[:,1] > pen_y]\n",
    "                            # home inside goal kick area \n",
    "                            home_inside_goal_kick_area_start = home_inside_penalty_area_start[((home_inside_penalty_area_start[:,0] < goal_kick_x) & (home_inside_penalty_area_start[:,0] > -goal_kick_x))]\n",
    "                            home_inside_goal_kick_area_start = home_inside_goal_kick_area_start[home_inside_goal_kick_area_start[:,1] > goal_kick_y]\n",
    "                            # away inside penalty area\n",
    "                            away_inside_penalty_area_start = temp_away_players_start[((temp_away_players_start[:,0] < pen_x) & (temp_away_players_start[:,0] > -pen_x))]\n",
    "                            away_inside_penalty_area_start = away_inside_penalty_area_start[away_inside_penalty_area_start[:,1] > pen_y]\n",
    "                            # away inside goal kick area \n",
    "                            away_inside_goal_kick_area_start = away_inside_penalty_area_start[((away_inside_penalty_area_start[:,0] < goal_kick_x) & (away_inside_penalty_area_start[:,0] > -goal_kick_x))]\n",
    "                            away_inside_goal_kick_area_start = away_inside_goal_kick_area_start[away_inside_goal_kick_area_start[:,1] > goal_kick_y]\n",
    "                            \n",
    "                            # home outside penalty area\n",
    "                            home_outside_penalty_area_start = temp_home_players_start[((temp_home_players_start[:,0] > pen_x) | (temp_home_players_start[:,0] < -pen_x) | (temp_home_players_start[:,1] < pen_y))]\n",
    "                            # away outside penalty area\n",
    "                            away_outside_penalty_area_start = temp_away_players_start[((temp_away_players_start[:,0] > pen_x) | (temp_away_players_start[:,0] < -pen_x) | (temp_away_players_start[:,1] < pen_y))]\n",
    "\n",
    "                            # END of Corner Kick Frame\n",
    "\n",
    "                            # home inside penalty area\n",
    "                            home_inside_penalty_area_end = temp_home_players_end[((temp_home_players_end[:,0] < pen_x) & (temp_home_players_end[:,0] > -pen_x))]\n",
    "                            home_inside_penalty_area_end = home_inside_penalty_area_end[home_inside_penalty_area_end[:,1] > pen_y]\n",
    "                            # home inside goal kick area \n",
    "                            home_inside_goal_kick_area_end = home_inside_penalty_area_end[((home_inside_penalty_area_end[:,0] < goal_kick_x) & (home_inside_penalty_area_end[:,0] > -goal_kick_x))]\n",
    "                            home_inside_goal_kick_area_end = home_inside_goal_kick_area_end[home_inside_goal_kick_area_end[:,1] > goal_kick_y]\n",
    "                            # away inside penalty area\n",
    "                            away_inside_penalty_area_end = temp_away_players_end[((temp_away_players_end[:,0] < pen_x) & (temp_away_players_end[:,0] > -pen_x))]\n",
    "                            away_inside_penalty_area_end = away_inside_penalty_area_end[away_inside_penalty_area_end[:,1] > pen_y]\n",
    "                            # away inside goal kick area \n",
    "                            away_inside_goal_kick_area_end = away_inside_penalty_area_end[((away_inside_penalty_area_end[:,0] < goal_kick_x) & (away_inside_penalty_area_end[:,0] > -goal_kick_x))]\n",
    "                            away_inside_goal_kick_area_end = away_inside_goal_kick_area_end[away_inside_goal_kick_area_end[:,1] > goal_kick_y]\n",
    "                            \n",
    "                            # home outside penalty area\n",
    "                            home_outside_penalty_area_end = temp_home_players_end[((temp_home_players_end[:,0] > pen_x) | (temp_home_players_end[:,0] < -pen_x) | (temp_home_players_end[:,1] < pen_y))]\n",
    "                            # away outside penalty area\n",
    "                            away_outside_penalty_area_end = temp_away_players_end[((temp_away_players_end[:,0] > pen_x) | (temp_away_players_end[:,0] < -pen_x) | (temp_away_players_end[:,1] < pen_y))]\n",
    "\n",
    "                        elif i == 2 or i ==3: # corner kick at down side of the pitch\n",
    "                            # START of Corner Kick Frame\n",
    "\n",
    "                            # home inside penalty area\n",
    "                            home_inside_penalty_area_start = temp_home_players_start[((temp_home_players_start[:,0] < pen_x) & (temp_home_players_start[:,0] > -pen_x))]\n",
    "                            home_inside_penalty_area_start = home_inside_penalty_area_start[home_inside_penalty_area_start[:,1] < -pen_y]\n",
    "\n",
    "                            # home inside goal kick area \n",
    "                            home_inside_goal_kick_area_start = home_inside_penalty_area_start[((home_inside_penalty_area_start[:,0] < goal_kick_x) & (home_inside_penalty_area_start[:,0] > -goal_kick_x))]\n",
    "                            home_inside_goal_kick_area_start = home_inside_goal_kick_area_start[home_inside_goal_kick_area_start[:,1] < -goal_kick_y]\n",
    "                            # away inside penalty area\n",
    "                            away_inside_penalty_area_start = temp_away_players_start[((temp_away_players_start[:,0] < pen_x) & (temp_away_players_start[:,0] > -pen_x))]\n",
    "                            away_inside_penalty_area_start = away_inside_penalty_area_start[away_inside_penalty_area_start[:,1] < -pen_y]\n",
    "                            # away inside goal kick area \n",
    "                            away_inside_goal_kick_area_start = away_inside_penalty_area_start[((away_inside_penalty_area_start[:,0] < goal_kick_x) & (away_inside_penalty_area_start[:,0] > -goal_kick_x))]\n",
    "                            away_inside_goal_kick_area_start = away_inside_goal_kick_area_start[away_inside_goal_kick_area_start[:,1] < -goal_kick_y]\n",
    "                            \n",
    "                            # home outside penalty area\n",
    "                            home_outside_penalty_area_start = temp_home_players_start[((temp_home_players_start[:,0] > pen_x) | (temp_home_players_start[:,0] < -pen_x) | (temp_home_players_start[:,1] > -pen_y))]\n",
    "                            # away outside penalty area\n",
    "                            away_outside_penalty_area_start = temp_away_players_start[((temp_away_players_start[:,0] > pen_x) | (temp_away_players_start[:,0] < -pen_x) | (temp_away_players_start[:,1] > -pen_y))]\n",
    "\n",
    "                            # END of Corner Kick Frame\n",
    "\n",
    "                            # home inside penalty area\n",
    "                            home_inside_penalty_area_end = temp_home_players_end[((temp_home_players_end[:,0] < pen_x) & (temp_home_players_end[:,0] > -pen_x))]\n",
    "                            home_inside_penalty_area_end = home_inside_penalty_area_end[home_inside_penalty_area_end[:,1] < -pen_y]\n",
    "                            # home inside goal kick area \n",
    "                            home_inside_goal_kick_area_end = home_inside_penalty_area_end[((home_inside_penalty_area_end[:,0] < goal_kick_x) & (home_inside_penalty_area_end[:,0] > -goal_kick_x))]\n",
    "                            home_inside_goal_kick_area_end = home_inside_goal_kick_area_end[home_inside_goal_kick_area_end[:,1] < -goal_kick_y]\n",
    "                            # away inside penalty area\n",
    "                            away_inside_penalty_area_end = temp_away_players_end[((temp_away_players_end[:,0] < pen_x) & (temp_away_players_end[:,0] > -pen_x))]\n",
    "                            away_inside_penalty_area_end = away_inside_penalty_area_end[away_inside_penalty_area_end[:,1] < -pen_y]\n",
    "                            # away inside goal kick area \n",
    "                            away_inside_goal_kick_area_end = away_inside_penalty_area_end[((away_inside_penalty_area_end[:,0] < goal_kick_x) & (away_inside_penalty_area_end[:,0] > -goal_kick_x))]\n",
    "                            away_inside_goal_kick_area_end = away_inside_goal_kick_area_end[away_inside_goal_kick_area_end[:,1] < -goal_kick_y]\n",
    "                            \n",
    "                            # home outside penalty area\n",
    "                            home_outside_penalty_area_end = temp_home_players_end[((temp_home_players_end[:,0] > pen_x) | (temp_home_players_end[:,0] < -pen_x) | (temp_home_players_end[:,1] > -pen_y))]\n",
    "                            # away outside penalty area\n",
    "                            away_outside_penalty_area_end = temp_away_players_end[((temp_away_players_end[:,0] > pen_x) | (temp_away_players_end[:,0] < -pen_x) | (temp_away_players_end[:,1] > -pen_y))]\n",
    "                        \n",
    "                        temp_new_dict[k].append([[home_inside_penalty_area_start, home_inside_goal_kick_area_start, home_outside_penalty_area_start, away_inside_penalty_area_start, away_inside_goal_kick_area_start, away_outside_penalty_area_start],\\\n",
    "                                                [home_inside_penalty_area_end, home_inside_goal_kick_area_end, home_outside_penalty_area_end, away_inside_penalty_area_end, away_inside_goal_kick_area_end, away_outside_penalty_area_end]])\n",
    "\n",
    "                        temp_new_dict_count[k].append([[len(home_inside_penalty_area_start), len(home_inside_goal_kick_area_start), len(home_outside_penalty_area_start), len(away_inside_penalty_area_start), len(away_inside_goal_kick_area_start), len(away_outside_penalty_area_start)],\\\n",
    "                                                    [len(home_inside_penalty_area_end), len(home_inside_goal_kick_area_end), len(home_outside_penalty_area_end), len(away_inside_penalty_area_end), len(away_inside_goal_kick_area_end), len(away_outside_penalty_area_end)]])\n",
    "\n",
    "        player_per_zones.append(temp_new_dict)\n",
    "        player_per_zones_counts.append(temp_new_dict_count)\n",
    "        player_per_zones_frames.append(temp_new_dict_frame)\n",
    "    return player_per_zones, player_per_zones_counts, player_per_zones_frames"
   ]
  },
  {
   "attachments": {},
   "cell_type": "markdown",
   "metadata": {},
   "source": [
    "Role of Players per Zones "
   ]
  },
  {
   "cell_type": "code",
   "execution_count": 17,
   "metadata": {},
   "outputs": [],
   "source": [
    "# match id - roles and id - coords\n",
    "def helper_role_per_player(df, ids, coords):\n",
    "    id_roles = {}\n",
    "    id_coords = {}\n",
    "    for idx,i in  enumerate(ids):\n",
    "        role = df.loc[df['trackable_object'] == i, 'player_role'].values\n",
    "        if len(role) == 0:\n",
    "            role = \"NaN\"\n",
    "        else:\n",
    "            role = role[0]\n",
    "        id_roles[i] = role\n",
    "        id_coords[i] = coords[idx]\n",
    "    return id_roles, id_coords"
   ]
  },
  {
   "cell_type": "code",
   "execution_count": 18,
   "metadata": {},
   "outputs": [],
   "source": [
    "# match coords with roles\n",
    "def helper_role_per_player2(id_roles, id_coords, coords):\n",
    "    roles = []\n",
    "    for c in coords:\n",
    "        matching_id = -1\n",
    "        for p_id, coord_vals in id_coords.items():\n",
    "            if np.array_equal(c, coord_vals):\n",
    "                matching_id = p_id\n",
    "                role = id_roles[matching_id]\n",
    "                roles.append(role)\n",
    "                break\n",
    "    return roles"
   ]
  },
  {
   "cell_type": "code",
   "execution_count": 19,
   "metadata": {},
   "outputs": [],
   "source": [
    "# detect role of players in the corner kick routines with the given zones\n",
    "def role_per_player(match_objs, tracking_objs, player_per_zones_frames, player_per_zones):\n",
    "    role_per_players = []\n",
    "    for idx, match in enumerate(player_per_zones_frames): # for each match\n",
    "        temp_match = player_per_zones[idx]\n",
    "        temp_new_dict = {}\n",
    "        for team, corner_frames in match.items(): # for each team\n",
    "            temp_team = temp_match[team]\n",
    "            temp_new_dict[team] = []\n",
    "            for c_idx, (start, end) in enumerate(corner_frames): # for each corner kick\n",
    "                temp_corner = temp_team[c_idx]\n",
    "                # home ids and coords\n",
    "                start_home_team_ids = tracking_objs[idx].home_team_trackable_objs[start]\n",
    "                start_home_team_coords = tracking_objs[idx].home_team_coords[start]\n",
    "                end_home_team_ids = tracking_objs[idx].home_team_trackable_objs[end]\n",
    "                end_home_team_coords = tracking_objs[idx].home_team_coords[end]\n",
    "                # away ids and coords\n",
    "                start_away_team_ids = tracking_objs[idx].away_team_trackable_objs[start]\n",
    "                start_away_team_coords = tracking_objs[idx].away_team_coords[start]\n",
    "                end_away_team_ids = tracking_objs[idx].away_team_trackable_objs[end]\n",
    "                end_away_team_coords = tracking_objs[idx].away_team_coords[end]\n",
    "                \n",
    "                #home ids - roles , ids - coords matching\n",
    "                home_team_start_id_roles, home_team_start_id_coords = helper_role_per_player(match_objs[idx].home_team_df, start_home_team_ids, start_home_team_coords)\n",
    "                home_team_end_id_roles, home_team_end_id_coords  = helper_role_per_player(match_objs[idx].home_team_df, end_home_team_ids, end_home_team_coords)\n",
    "\n",
    "                #away ids - roles , ids - coords matching\n",
    "                away_team_start_id_roles, away_team_start_id_coords = helper_role_per_player(match_objs[idx].away_team_df, start_away_team_ids, start_away_team_coords)\n",
    "                away_team_end_id_roles, away_team_end_id_coords  = helper_role_per_player(match_objs[idx].away_team_df, end_away_team_ids, end_away_team_coords)\n",
    "\n",
    "                # Start\n",
    "                temp_corner_start = temp_corner[0]\n",
    "                home_inside_penalty_area_start_roles = helper_role_per_player2(home_team_start_id_roles,home_team_start_id_coords, temp_corner_start[0])\n",
    "            \n",
    "                home_inside_goal_kick_area_start_roles = helper_role_per_player2(home_team_start_id_roles,home_team_start_id_coords, temp_corner_start[1])\n",
    "                home_outside_penalty_area_start_roles = helper_role_per_player2(home_team_start_id_roles,home_team_start_id_coords, temp_corner_start[2])\n",
    "\n",
    "                away_inside_penalty_area_start_roles = helper_role_per_player2(away_team_start_id_roles,away_team_start_id_coords, temp_corner_start[3])\n",
    "                away_inside_goal_kick_area_start_roles = helper_role_per_player2(away_team_start_id_roles,away_team_start_id_coords, temp_corner_start[4])\n",
    "                away_outside_penalty_area_start_roles = helper_role_per_player2(away_team_start_id_roles,away_team_start_id_coords, temp_corner_start[5])\n",
    "\n",
    "                # End\n",
    "                temp_corner_end = temp_corner[1]\n",
    "                home_inside_penalty_area_end_roles = helper_role_per_player2(home_team_end_id_roles,home_team_end_id_coords, temp_corner_end[0])\n",
    "                home_inside_goal_kick_area_end_roles = helper_role_per_player2(home_team_end_id_roles,home_team_end_id_coords, temp_corner_end[1])\n",
    "                home_outside_penalty_area_end_roles = helper_role_per_player2(home_team_end_id_roles,home_team_end_id_coords, temp_corner_end[2])\n",
    "\n",
    "                away_inside_penalty_area_end_roles = helper_role_per_player2(away_team_end_id_roles,away_team_end_id_coords, temp_corner_end[3])\n",
    "                away_inside_goal_kick_area_end_roles = helper_role_per_player2(away_team_end_id_roles,away_team_end_id_coords, temp_corner_end[4])\n",
    "                away_outside_penalty_area_end_roles = helper_role_per_player2(away_team_end_id_roles,away_team_end_id_coords, temp_corner_end[5])\n",
    "\n",
    "\n",
    "                temp_new_dict[team].append([[home_inside_penalty_area_start_roles, home_inside_goal_kick_area_start_roles, home_outside_penalty_area_start_roles, away_inside_penalty_area_start_roles, away_inside_goal_kick_area_start_roles, away_outside_penalty_area_start_roles],\n",
    "                                            [home_inside_penalty_area_end_roles, home_inside_goal_kick_area_end_roles, home_outside_penalty_area_end_roles, away_inside_penalty_area_end_roles, away_inside_goal_kick_area_end_roles, away_outside_penalty_area_end_roles]])\n",
    "                \n",
    "        role_per_players.append(temp_new_dict)\n",
    "    return role_per_players"
   ]
  },
  {
   "attachments": {},
   "cell_type": "markdown",
   "metadata": {},
   "source": [
    "Defensive Strategy Detection"
   ]
  },
  {
   "cell_type": "code",
   "execution_count": 20,
   "metadata": {},
   "outputs": [],
   "source": [
    "# detect defensive strategy of the defending team \n",
    "def defensive_strategy(match_objs, tracking_objs, player_per_zones_frames, d = 1.5):\n",
    "    defensive_strategies_cnt = []\n",
    "    for idx, match in enumerate(player_per_zones_frames): # for each match\n",
    "        temp_new_dict_cnt = {}\n",
    "        temp_new_dict_cnt[match_objs[idx].away_team_name] = []\n",
    "        temp_new_dict_cnt[match_objs[idx].home_team_name] = []\n",
    "        for team, corner_frames in match.items(): # for each team\n",
    "            for c_idx, (start, end) in enumerate(corner_frames): # for each corner kick\n",
    "                # Coords\n",
    "                end_home_team_coords = tracking_objs[idx].home_team_coords[end]\n",
    "                end_away_team_coords = tracking_objs[idx].away_team_coords[end]\n",
    "                distances = -1\n",
    "                min_distances = -1\n",
    "                if team == match_objs[idx].home_team_name: # away team is defensing\n",
    "                    distances = distance.cdist(end_away_team_coords, end_home_team_coords)\n",
    "                    min_distances = np.min(distances, axis=1) # get minimum distance\n",
    "                \n",
    "                elif team == match_objs[idx].away_team_name: # home team is defensing\n",
    "                    distances = distance.cdist(end_home_team_coords, end_away_team_coords)\n",
    "                    min_distances = np.min(distances, axis=1) # get minimum distance\n",
    "                \n",
    "                man_marking_cnt = len(min_distances[min_distances <= d]) # man markers \n",
    "                zonal_defending_cnt = len(min_distances[min_distances > d]) - 2 # zonal defenders\n",
    "\n",
    "                if team == match_objs[idx].home_team_name: # away team is defensing\n",
    "                    temp_new_dict_cnt[match_objs[idx].away_team_name].append([man_marking_cnt, zonal_defending_cnt])\n",
    "                elif team == match_objs[idx].away_team_name: # home team is defensing\n",
    "                    temp_new_dict_cnt[match_objs[idx].home_team_name].append([man_marking_cnt, zonal_defending_cnt])\n",
    "\n",
    "        defensive_strategies_cnt.append(temp_new_dict_cnt)\n",
    "                \n",
    "    return defensive_strategies_cnt"
   ]
  },
  {
   "cell_type": "code",
   "execution_count": 21,
   "metadata": {},
   "outputs": [],
   "source": [
    "# vary the distance to experiment the defensive strategy\n",
    "def vary_defensive_strategy_dist(player_per_zones_frames, ds = [1, 1.5, 2]):\n",
    "    defensive_strategies_cnts = []\n",
    "    for d in ds:\n",
    "        defensive_strategies_cnt = defensive_strategy(match_objs, tracking_objs, player_per_zones_frames, d = d)\n",
    "        defensive_strategies_cnts.append(defensive_strategies_cnt)\n",
    "    return defensive_strategies_cnts"
   ]
  },
  {
   "cell_type": "code",
   "execution_count": 22,
   "metadata": {},
   "outputs": [],
   "source": [
    "# collect data for each team in order to prepare for the k-means model\n",
    "def k_means_prepare_data(match_objs, tracking_objs, player_per_zones, player_per_zones_frames):\n",
    "    defensing_team_locs = {}\n",
    "    for idx, match in enumerate(player_per_zones_frames): # for each match\n",
    "        temp_match = player_per_zones[idx]\n",
    "        if match_objs[idx].home_team_name not in defensing_team_locs.keys():\n",
    "            defensing_team_locs[match_objs[idx].home_team_name] = []\n",
    "        if match_objs[idx].away_team_name not in defensing_team_locs.keys():\n",
    "            defensing_team_locs[match_objs[idx].away_team_name] = []\n",
    "        for team, corner_frames in match.items(): # for each team\n",
    "            temp_team = temp_match[team]\n",
    "            for c_idx, (start, end) in enumerate(corner_frames): # for each corner kick\n",
    "                temp_corner = temp_team[c_idx]\n",
    "                if team == match_objs[idx].home_team_name: # away team is defending\n",
    "                    temp_away_locs = []\n",
    "                    for a_team in tracking_objs[idx].away_team_coords[start:end]:\n",
    "                        a_team = np.array(a_team)\n",
    "                        for a_p in a_team:\n",
    "                            if a_p[0] < 0 and a_p[1] < 0:\n",
    "                                temp_away_locs.append(-a_p) \n",
    "                            elif a_p[0] < 0:\n",
    "                                temp_away_locs.append(np.array([-a_p[0], a_p[1]])) \n",
    "                            elif a_p[1] < 0:\n",
    "                                temp_away_locs.append(np.array([a_p[0], - a_p[1]])) \n",
    "                            else:\n",
    "                                temp_away_locs.append(a_p) \n",
    "                    defensing_team_locs[match_objs[idx].away_team_name].extend(temp_away_locs)\n",
    "                elif team == match_objs[idx].away_team_name: # home team is defending\n",
    "                    temp_home_locs = []\n",
    "                    for h_team in  tracking_objs[idx].home_team_coords[start:end]:\n",
    "                        h_team = np.array(h_team)\n",
    "                        for h_p in h_team:\n",
    "                            if h_p[0] < 0 and h_p[1] < 0:\n",
    "                                temp_home_locs.append(-h_p) \n",
    "                            elif h_p[0] < 0:\n",
    "                                temp_home_locs.append(np.array([-h_p[0], h_p[1]])) \n",
    "                            elif h_p[1] < 0:\n",
    "                                temp_home_locs.append(np.array([h_p[0], - h_p[1]])) \n",
    "                            else:\n",
    "                                temp_home_locs.append(h_p) \n",
    "                    defensing_team_locs[match_objs[idx].home_team_name].extend(temp_home_locs)\n",
    "    return defensing_team_locs\n",
    "        "
   ]
  },
  {
   "cell_type": "code",
   "execution_count": 23,
   "metadata": {},
   "outputs": [],
   "source": [
    "# apply kmeans algorithm to all the teams and get centroids with predicted data points\n",
    "def k_means_defensing_team(match_objs, tracking_objs, player_per_zones, player_per_zones_frames, k = 5):\n",
    "    defensing_team_locs = k_means_prepare_data(match_objs, tracking_objs, player_per_zones, player_per_zones_frames)\n",
    "    defensing_team_centroids = {}\n",
    "    defensing_team_preds = {}\n",
    "    for team, locs in defensing_team_locs.items():\n",
    "        defensing_team_centroids[team] = -1\n",
    "        defensing_team_preds[team] = []\n",
    "        if len(locs) > 0:\n",
    "            locs = np.array(locs)\n",
    "            temp_k_means = KMeans(n_clusters = k ,random_state=0, n_init=\"auto\").fit(locs)\n",
    "            defensing_team_preds[team] = temp_k_means.labels_\n",
    "            defensing_team_centroids[team] = temp_k_means.cluster_centers_\n",
    "    return defensing_team_centroids, defensing_team_preds\n",
    "        "
   ]
  },
  {
   "cell_type": "code",
   "execution_count": 24,
   "metadata": {},
   "outputs": [],
   "source": [
    "# encode color to predictions\n",
    "def centroid_color_encoder(defensing_team_preds, color_dict = {0:\"firebrick\", 1:\"blue\", 2:\"green\", 3:\"yellow\", 4:\"purple\"}):\n",
    "    defensing_team_preds_colors = {}\n",
    "    for team, preds in defensing_team_preds.items():\n",
    "        defensing_team_preds_colors[team] = []\n",
    "        for p in preds:\n",
    "            defensing_team_preds_colors[team].append(color_dict[p])\n",
    "    return defensing_team_preds_colors"
   ]
  },
  {
   "attachments": {},
   "cell_type": "markdown",
   "metadata": {},
   "source": [
    "Method Calls"
   ]
  },
  {
   "cell_type": "code",
   "execution_count": 25,
   "metadata": {},
   "outputs": [],
   "source": [
    "corner_kicks_all = store_corner_kicks(tracking_objs) # get corner kicks"
   ]
  },
  {
   "cell_type": "code",
   "execution_count": 26,
   "metadata": {},
   "outputs": [],
   "source": [
    "corner_kicks_splitted = split_corner_kicks(corner_kicks_all) # split corner kicks"
   ]
  },
  {
   "cell_type": "code",
   "execution_count": 27,
   "metadata": {},
   "outputs": [],
   "source": [
    "player_per_zones, player_per_zones_count, player_per_zones_frames = players_per_zones(tracking_objs, corner_kicks_splitted) # zone counts"
   ]
  },
  {
   "cell_type": "code",
   "execution_count": 28,
   "metadata": {},
   "outputs": [],
   "source": [
    "role_per_players = role_per_player(match_objs, tracking_objs, player_per_zones_frames, player_per_zones) # role assignment"
   ]
  },
  {
   "cell_type": "code",
   "execution_count": 29,
   "metadata": {},
   "outputs": [],
   "source": [
    "defensive_strategies_cnt = defensive_strategy(match_objs, tracking_objs, player_per_zones_frames, d = 1.5) # defensive strategy "
   ]
  },
  {
   "cell_type": "code",
   "execution_count": 30,
   "metadata": {},
   "outputs": [],
   "source": [
    "defensive_strategies_cnts = vary_defensive_strategy_dist(player_per_zones_frames) # vary distance for defensive strategy determination"
   ]
  },
  {
   "cell_type": "code",
   "execution_count": 31,
   "metadata": {},
   "outputs": [],
   "source": [
    "defensing_team_locs = k_means_prepare_data(match_objs, tracking_objs, player_per_zones, player_per_zones_frames) # prepare data for k means"
   ]
  },
  {
   "cell_type": "code",
   "execution_count": 32,
   "metadata": {},
   "outputs": [],
   "source": [
    "defensing_team_centroids_5, defensing_team_preds_5 = k_means_defensing_team(match_objs, tracking_objs, player_per_zones,player_per_zones_frames, k = 5) # apply k means - k =5"
   ]
  },
  {
   "cell_type": "code",
   "execution_count": 33,
   "metadata": {},
   "outputs": [],
   "source": [
    "defensing_team_centroids_6, defensing_team_preds_6 = k_means_defensing_team(match_objs, tracking_objs, player_per_zones,player_per_zones_frames, k = 6) # apply k means - k = 6"
   ]
  },
  {
   "cell_type": "code",
   "execution_count": 34,
   "metadata": {},
   "outputs": [],
   "source": [
    "defensing_team_centroids_7, defensing_team_preds_7 = k_means_defensing_team(match_objs, tracking_objs, player_per_zones,player_per_zones_frames, k = 7) # apply k means - k = 7"
   ]
  },
  {
   "cell_type": "code",
   "execution_count": 35,
   "metadata": {},
   "outputs": [],
   "source": [
    "color_dict_5 = {0:\"firebrick\", 1:\"blue\", 2:\"green\", 3:\"yellow\", 4:\"purple\"}\n",
    "color_dict_6 = {0:\"firebrick\", 1:\"blue\", 2:\"green\", 3:\"yellow\", 4:\"purple\", 5: \"dimgray\"}\n",
    "color_dict_7 = {0:\"firebrick\", 1:\"blue\", 2:\"green\", 3:\"yellow\", 4:\"purple\", 5: \"dimgray\", 6: \"cyan\"}"
   ]
  },
  {
   "cell_type": "code",
   "execution_count": 36,
   "metadata": {},
   "outputs": [],
   "source": [
    "defensing_team_preds_colors_5 = centroid_color_encoder(defensing_team_preds_5, color_dict = color_dict_5)"
   ]
  },
  {
   "cell_type": "code",
   "execution_count": 37,
   "metadata": {},
   "outputs": [],
   "source": [
    "defensing_team_preds_colors_6 = centroid_color_encoder(defensing_team_preds_6, color_dict = color_dict_6)"
   ]
  },
  {
   "cell_type": "code",
   "execution_count": 38,
   "metadata": {},
   "outputs": [],
   "source": [
    "defensing_team_preds_colors_7 = centroid_color_encoder(defensing_team_preds_7, color_dict = color_dict_7)"
   ]
  },
  {
   "attachments": {},
   "cell_type": "markdown",
   "metadata": {},
   "source": [
    "Plotting Calls"
   ]
  },
  {
   "cell_type": "code",
   "execution_count": 39,
   "metadata": {},
   "outputs": [],
   "source": [
    "vis = Visualizer()"
   ]
  },
  {
   "cell_type": "code",
   "execution_count": 40,
   "metadata": {},
   "outputs": [
    {
     "data": {
      "image/png": "[encoded data removed]",
      "text/plain": [
       "<Figure size 489.6x756 with 1 Axes>"
      ]
     },
     "metadata": {},
     "output_type": "display_data"
    }
   ],
   "source": [
    "vis.basic_plotter_together(tracking=tracking_objs[0], frame = 5419, team_name=\"Inter\")"
   ]
  },
  {
   "cell_type": "code",
   "execution_count": 41,
   "metadata": {},
   "outputs": [
    {
     "data": {
      "text/plain": [
       "['Inter',\n",
       " 'Juventus',\n",
       " 'Paris',\n",
       " 'Marseille',\n",
       " 'Bayern Munchen',\n",
       " 'Dortmund',\n",
       " 'Liverpool',\n",
       " 'Manchester City',\n",
       " 'FC Barcelona',\n",
       " 'Real Madrid']"
      ]
     },
     "execution_count": 41,
     "metadata": {},
     "output_type": "execute_result"
    }
   ],
   "source": [
    "list(defensing_team_locs.keys()) # team names"
   ]
  },
  {
   "cell_type": "code",
   "execution_count": 42,
   "metadata": {},
   "outputs": [],
   "source": [
    "team_name = \"Inter\""
   ]
  },
  {
   "cell_type": "code",
   "execution_count": 43,
   "metadata": {},
   "outputs": [
    {
     "data": {
      "image/png": "[encoded data removed]",
      "text/plain": [
       "<Figure size 489.6x756 with 1 Axes>"
      ]
     },
     "metadata": {},
     "output_type": "display_data"
    }
   ],
   "source": [
    "vis.k_means_plotter(defensing_team_locs[team_name], defensing_team_centroids_7[team_name], defensing_team_preds_colors_7[team_name], team_name, k = 7)"
   ]
  },
  {
   "cell_type": "code",
   "execution_count": null,
   "metadata": {},
   "outputs": [],
   "source": []
  }
 ],
 "metadata": {
  "kernelspec": {
   "display_name": "Python 3",
   "language": "python",
   "name": "python3"
  },
  "language_info": {
   "codemirror_mode": {
    "name": "ipython",
    "version": 3
   },
   "file_extension": ".py",
   "mimetype": "text/x-python",
   "name": "python",
   "nbconvert_exporter": "python",
   "pygments_lexer": "ipython3",
   "version": "3.8.5"
  },
  "orig_nbformat": 4
 },
 "nbformat": 4,
 "nbformat_minor": 2
}
